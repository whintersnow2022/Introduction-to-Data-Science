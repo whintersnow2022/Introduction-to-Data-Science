{
 "cells": [
  {
   "cell_type": "markdown",
   "id": "ff883061",
   "metadata": {},
   "source": [
    "### Libraries"
   ]
  },
  {
   "cell_type": "code",
   "execution_count": 23,
   "id": "aa7923ad",
   "metadata": {},
   "outputs": [],
   "source": [
    "import pandas as pd \n",
    "import numpy as np\n",
    "import seaborn as sns\n",
    "import statistics\n",
    "import statsmodels.api as sm\n",
    "import matplotlib.pyplot as plt\n",
    "import random\n",
    "from scipy import stats\n",
    "from scipy.stats import spearmanr\n",
    "import scipy.stats"
   ]
  },
  {
   "cell_type": "markdown",
   "id": "ee1fe42e",
   "metadata": {},
   "source": [
    "### Sleep Data"
   ]
  },
  {
   "cell_type": "code",
   "execution_count": 24,
   "id": "1fd0cb6f",
   "metadata": {},
   "outputs": [
    {
     "name": "stdout",
     "output_type": "stream",
     "text": [
      "    Unnamed: 0  extra  group  ID\n",
      "0            1    0.7      1   1\n",
      "1            2   -1.6      1   2\n",
      "2            3   -0.2      1   3\n",
      "3            4   -1.2      1   4\n",
      "4            5   -0.1      1   5\n",
      "5            6    3.4      1   6\n",
      "6            7    3.7      1   7\n",
      "7            8    0.8      1   8\n",
      "8            9    0.0      1   9\n",
      "9           10    2.0      1  10\n",
      "10          11    1.9      2   1\n",
      "11          12    0.8      2   2\n",
      "12          13    1.1      2   3\n",
      "13          14    0.1      2   4\n",
      "14          15   -0.1      2   5\n",
      "15          16    4.4      2   6\n",
      "16          17    5.5      2   7\n",
      "17          18    1.6      2   8\n",
      "18          19    4.6      2   9\n",
      "19          20    3.4      2  10\n"
     ]
    }
   ],
   "source": [
    "# Importing Sleep Data\n",
    "\n",
    "sleep_data = pd.read_csv(\"sleep.csv\")\n",
    "print(sleep_data)"
   ]
  },
  {
   "cell_type": "code",
   "execution_count": 25,
   "id": "9f7c912d",
   "metadata": {},
   "outputs": [
    {
     "name": "stdout",
     "output_type": "stream",
     "text": [
      "<class 'pandas.core.frame.DataFrame'>\n",
      "RangeIndex: 20 entries, 0 to 19\n",
      "Data columns (total 4 columns):\n",
      " #   Column      Non-Null Count  Dtype  \n",
      "---  ------      --------------  -----  \n",
      " 0   Unnamed: 0  20 non-null     int64  \n",
      " 1   extra       20 non-null     float64\n",
      " 2   group       20 non-null     int64  \n",
      " 3   ID          20 non-null     int64  \n",
      "dtypes: float64(1), int64(3)\n",
      "memory usage: 768.0 bytes\n"
     ]
    }
   ],
   "source": [
    "sleep_data.info()"
   ]
  },
  {
   "cell_type": "code",
   "execution_count": 26,
   "id": "870c9a62",
   "metadata": {},
   "outputs": [
    {
     "name": "stdout",
     "output_type": "stream",
     "text": [
      "     Y    X\n",
      "0  0.7  1.9\n",
      "1 -1.6  0.8\n",
      "2 -0.2  1.1\n",
      "3 -1.2  0.1\n",
      "4 -0.1 -0.1\n",
      "5  3.4  4.4\n",
      "6  3.7  5.5\n",
      "7  0.8  1.6\n",
      "8  0.0  4.6\n",
      "9  2.0  3.4\n"
     ]
    }
   ],
   "source": [
    "# Converting dataframe into series.\n",
    "\n",
    "sleep_2 = pd.DataFrame([[0.7, 1.9],\n",
    "                        [-1.6, 0.8],\n",
    "                        [-0.2, 1.1],\n",
    "                        [-1.2, 0.1],\n",
    "                        [-0.1, -0.1],\n",
    "                        [3.4, 4.4],\n",
    "                        [3.7, 5.5],\n",
    "                        [0.8, 1.6],\n",
    "                        [0.0, 4.6],\n",
    "                        [2.0, 3.4]], \n",
    "                       columns=['Y','X'])\n",
    "print(sleep_2)"
   ]
  },
  {
   "cell_type": "code",
   "execution_count": 27,
   "id": "5e1c406a",
   "metadata": {},
   "outputs": [
    {
     "data": {
      "image/png": "[encoded data removed]",
      "text/plain": [
       "<Figure size 432x288 with 1 Axes>"
      ]
     },
     "metadata": {
      "needs_background": "light"
     },
     "output_type": "display_data"
    }
   ],
   "source": [
    "# Q-Q Plot to test assumptions regarding normality of data.\n",
    "\n",
    "diff = sleep_2[\"Y\"]-sleep_2[\"X\"]\n",
    "fig = sm.qqplot(diff, line='')\n",
    "plt.show()"
   ]
  },
  {
   "cell_type": "code",
   "execution_count": 28,
   "id": "32b80585",
   "metadata": {},
   "outputs": [
    {
     "name": "stdout",
     "output_type": "stream",
     "text": [
      "-1.58\n"
     ]
    }
   ],
   "source": [
    "# Mean Difference\n",
    "\n",
    "meandiff = statistics.mean(sleep_2[\"Y\"]) - statistics.mean(sleep_2[\"X\"])\n",
    "print(meandiff)"
   ]
  },
  {
   "cell_type": "code",
   "execution_count": 29,
   "id": "743bffe3",
   "metadata": {},
   "outputs": [
    {
     "data": {
      "text/plain": [
       "Ttest_relResult(statistic=-4.062127683382037, pvalue=0.00283289019738427)"
      ]
     },
     "execution_count": 29,
     "metadata": {},
     "output_type": "execute_result"
    }
   ],
   "source": [
    "# t-test\n",
    "\n",
    "stats.ttest_rel(sleep_2[\"Y\"], sleep_2[\"X\"])"
   ]
  },
  {
   "cell_type": "code",
   "execution_count": 30,
   "id": "0f136c1c",
   "metadata": {},
   "outputs": [
    {
     "data": {
      "text/plain": [
       "(-2.459885763254729, -0.7001142367452712)"
      ]
     },
     "execution_count": 30,
     "metadata": {},
     "output_type": "execute_result"
    }
   ],
   "source": [
    "# Confidence Interval\n",
    "\n",
    "alpha = 0.05\n",
    "diff_samples = sleep_2[\"Y\"] - sleep_2[\"X\"]                      \n",
    "n = len(sleep_2[\"Y\"])                                        \n",
    "diff_mean = np.mean(diff_samples)                       \n",
    "diff_variance = np.var( diff_samples, ddof=1 )          \n",
    "critical_val = stats.t.ppf(q = 1-alpha/2, df = n - 1)  \n",
    "radius = critical_val*np.sqrt(diff_variance)/np.sqrt(n) \n",
    "(diff_mean - radius, diff_mean + radius)"
   ]
  },
  {
   "cell_type": "code",
   "execution_count": 31,
   "id": "535b9e13",
   "metadata": {},
   "outputs": [
    {
     "name": "stdout",
     "output_type": "stream",
     "text": [
      "-2.3599999999999994\n"
     ]
    }
   ],
   "source": [
    "# Nonparametric Bootstrapping\n",
    "\n",
    "np.random.seed(11504)\n",
    "n = len(sleep_2[\"Y\"])\n",
    "sleep_index = list(np.arange(start=1, stop=n))\n",
    "nsim = 1000\n",
    "statistic = list(np.arange(nsim))\n",
    "for i in range(nsim):\n",
    "    sleep_nboot = np.random.choice(sleep_index, n, replace=True)\n",
    "    y_boot = sleep_2[\"Y\"][sleep_nboot]\n",
    "    x_boot = sleep_2[\"X\"][sleep_nboot]\n",
    "    statistic[i] = np.mean(y_boot) - np.mean(x_boot)\n",
    "    \n",
    "print(statistic[i])"
   ]
  },
  {
   "cell_type": "code",
   "execution_count": 32,
   "id": "485b04a2",
   "metadata": {},
   "outputs": [
    {
     "name": "stdout",
     "output_type": "stream",
     "text": [
      "0.38890037786546816\n"
     ]
    }
   ],
   "source": [
    "# Standard Error\n",
    "\n",
    "sd_error = statistics.stdev(statistic)\n",
    "print(sd_error)"
   ]
  },
  {
   "cell_type": "code",
   "execution_count": 33,
   "id": "67219796",
   "metadata": {},
   "outputs": [
    {
     "data": {
      "text/plain": [
       "array([-2.46, -0.95])"
      ]
     },
     "execution_count": 33,
     "metadata": {},
     "output_type": "execute_result"
    }
   ],
   "source": [
    "# 95% Confidence Interval\n",
    "\n",
    "ci_sleep_nonpar = np.percentile(statistic, [2.5, 97.5])\n",
    "ci_sleep_nonpar"
   ]
  },
  {
   "cell_type": "code",
   "execution_count": 34,
   "id": "5c556744",
   "metadata": {},
   "outputs": [
    {
     "data": {
      "text/plain": [
       "<matplotlib.lines.Line2D at 0x1f088d0ab80>"
      ]
     },
     "execution_count": 34,
     "metadata": {},
     "output_type": "execute_result"
    },
    {
     "data": {
      "image/png": "[encoded data removed]",
      "text/plain": [
       "<Figure size 432x288 with 1 Axes>"
      ]
     },
     "metadata": {
      "needs_background": "light"
     },
     "output_type": "display_data"
    }
   ],
   "source": [
    "# Distribution\n",
    "\n",
    "plt.hist(statistic, alpha = 1) \n",
    "plt.axvline(np.percentile(statistic, 2.5), color = 'red', linewidth=2) \n",
    "plt.axvline(np.percentile(statistic, 97.5), color = 'red', linewidth=2)"
   ]
  },
  {
   "cell_type": "markdown",
   "id": "6f8ee0ee",
   "metadata": {},
   "source": [
    "### Cars Data"
   ]
  },
  {
   "cell_type": "code",
   "execution_count": 35,
   "id": "b7d4f53a",
   "metadata": {},
   "outputs": [
    {
     "name": "stdout",
     "output_type": "stream",
     "text": [
      "             Unnamed: 0   mpg  cyl   disp   hp  drat     wt   qsec  vs  am  \\\n",
      "0             Mazda RX4  21.0    6  160.0  110  3.90  2.620  16.46   0   1   \n",
      "1         Mazda RX4 Wag  21.0    6  160.0  110  3.90  2.875  17.02   0   1   \n",
      "2            Datsun 710  22.8    4  108.0   93  3.85  2.320  18.61   1   1   \n",
      "3        Hornet 4 Drive  21.4    6  258.0  110  3.08  3.215  19.44   1   0   \n",
      "4     Hornet Sportabout  18.7    8  360.0  175  3.15  3.440  17.02   0   0   \n",
      "5               Valiant  18.1    6  225.0  105  2.76  3.460  20.22   1   0   \n",
      "6            Duster 360  14.3    8  360.0  245  3.21  3.570  15.84   0   0   \n",
      "7             Merc 240D  24.4    4  146.7   62  3.69  3.190  20.00   1   0   \n",
      "8              Merc 230  22.8    4  140.8   95  3.92  3.150  22.90   1   0   \n",
      "9              Merc 280  19.2    6  167.6  123  3.92  3.440  18.30   1   0   \n",
      "10            Merc 280C  17.8    6  167.6  123  3.92  3.440  18.90   1   0   \n",
      "11           Merc 450SE  16.4    8  275.8  180  3.07  4.070  17.40   0   0   \n",
      "12           Merc 450SL  17.3    8  275.8  180  3.07  3.730  17.60   0   0   \n",
      "13          Merc 450SLC  15.2    8  275.8  180  3.07  3.780  18.00   0   0   \n",
      "14   Cadillac Fleetwood  10.4    8  472.0  205  2.93  5.250  17.98   0   0   \n",
      "15  Lincoln Continental  10.4    8  460.0  215  3.00  5.424  17.82   0   0   \n",
      "16    Chrysler Imperial  14.7    8  440.0  230  3.23  5.345  17.42   0   0   \n",
      "17             Fiat 128  32.4    4   78.7   66  4.08  2.200  19.47   1   1   \n",
      "18          Honda Civic  30.4    4   75.7   52  4.93  1.615  18.52   1   1   \n",
      "19       Toyota Corolla  33.9    4   71.1   65  4.22  1.835  19.90   1   1   \n",
      "20        Toyota Corona  21.5    4  120.1   97  3.70  2.465  20.01   1   0   \n",
      "21     Dodge Challenger  15.5    8  318.0  150  2.76  3.520  16.87   0   0   \n",
      "22          AMC Javelin  15.2    8  304.0  150  3.15  3.435  17.30   0   0   \n",
      "23           Camaro Z28  13.3    8  350.0  245  3.73  3.840  15.41   0   0   \n",
      "24     Pontiac Firebird  19.2    8  400.0  175  3.08  3.845  17.05   0   0   \n",
      "25            Fiat X1-9  27.3    4   79.0   66  4.08  1.935  18.90   1   1   \n",
      "26        Porsche 914-2  26.0    4  120.3   91  4.43  2.140  16.70   0   1   \n",
      "27         Lotus Europa  30.4    4   95.1  113  3.77  1.513  16.90   1   1   \n",
      "28       Ford Pantera L  15.8    8  351.0  264  4.22  3.170  14.50   0   1   \n",
      "29         Ferrari Dino  19.7    6  145.0  175  3.62  2.770  15.50   0   1   \n",
      "30        Maserati Bora  15.0    8  301.0  335  3.54  3.570  14.60   0   1   \n",
      "31           Volvo 142E  21.4    4  121.0  109  4.11  2.780  18.60   1   1   \n",
      "\n",
      "    gear  carb  \n",
      "0      4     4  \n",
      "1      4     4  \n",
      "2      4     1  \n",
      "3      3     1  \n",
      "4      3     2  \n",
      "5      3     1  \n",
      "6      3     4  \n",
      "7      4     2  \n",
      "8      4     2  \n",
      "9      4     4  \n",
      "10     4     4  \n",
      "11     3     3  \n",
      "12     3     3  \n",
      "13     3     3  \n",
      "14     3     4  \n",
      "15     3     4  \n",
      "16     3     4  \n",
      "17     4     1  \n",
      "18     4     2  \n",
      "19     4     1  \n",
      "20     3     1  \n",
      "21     3     2  \n",
      "22     3     2  \n",
      "23     3     4  \n",
      "24     3     2  \n",
      "25     4     1  \n",
      "26     5     2  \n",
      "27     5     2  \n",
      "28     5     4  \n",
      "29     5     6  \n",
      "30     5     8  \n",
      "31     4     2  \n"
     ]
    }
   ],
   "source": [
    "# Importing Cars Data\n",
    "\n",
    "mtcars_data = pd.read_csv(\"mtcars.csv\")\n",
    "print(mtcars_data)"
   ]
  },
  {
   "cell_type": "code",
   "execution_count": 36,
   "id": "ef323d9d",
   "metadata": {},
   "outputs": [
    {
     "name": "stdout",
     "output_type": "stream",
     "text": [
      "<class 'pandas.core.frame.DataFrame'>\n",
      "RangeIndex: 32 entries, 0 to 31\n",
      "Data columns (total 12 columns):\n",
      " #   Column      Non-Null Count  Dtype  \n",
      "---  ------      --------------  -----  \n",
      " 0   Unnamed: 0  32 non-null     object \n",
      " 1   mpg         32 non-null     float64\n",
      " 2   cyl         32 non-null     int64  \n",
      " 3   disp        32 non-null     float64\n",
      " 4   hp          32 non-null     int64  \n",
      " 5   drat        32 non-null     float64\n",
      " 6   wt          32 non-null     float64\n",
      " 7   qsec        32 non-null     float64\n",
      " 8   vs          32 non-null     int64  \n",
      " 9   am          32 non-null     int64  \n",
      " 10  gear        32 non-null     int64  \n",
      " 11  carb        32 non-null     int64  \n",
      "dtypes: float64(5), int64(6), object(1)\n",
      "memory usage: 3.1+ KB\n"
     ]
    }
   ],
   "source": [
    "mtcars_data.info()"
   ]
  },
  {
   "cell_type": "code",
   "execution_count": 37,
   "id": "a0947e10",
   "metadata": {},
   "outputs": [
    {
     "name": "stdout",
     "output_type": "stream",
     "text": [
      "0     21.0\n",
      "1     21.0\n",
      "2     22.8\n",
      "3     21.4\n",
      "4     18.7\n",
      "5     18.1\n",
      "6     14.3\n",
      "7     24.4\n",
      "8     22.8\n",
      "9     19.2\n",
      "10    17.8\n",
      "11    16.4\n",
      "12    17.3\n",
      "13    15.2\n",
      "14    10.4\n",
      "15    10.4\n",
      "16    14.7\n",
      "17    32.4\n",
      "18    30.4\n",
      "19    33.9\n",
      "20    21.5\n",
      "21    15.5\n",
      "22    15.2\n",
      "23    13.3\n",
      "24    19.2\n",
      "25    27.3\n",
      "26    26.0\n",
      "27    30.4\n",
      "28    15.8\n",
      "29    19.7\n",
      "30    15.0\n",
      "31    21.4\n",
      "Name: mpg, dtype: float64\n"
     ]
    }
   ],
   "source": [
    "# Converting dataframe into series.\n",
    "\n",
    "mpg = mtcars_data[\"mpg\"]\n",
    "hp = mtcars_data[\"hp\"]\n",
    "\n",
    "print(mpg)"
   ]
  },
  {
   "cell_type": "code",
   "execution_count": 38,
   "id": "699ae7d8",
   "metadata": {},
   "outputs": [
    {
     "name": "stdout",
     "output_type": "stream",
     "text": [
      "-0.8946646457499626\n"
     ]
    }
   ],
   "source": [
    "# Spearman Correlation Coefficient\n",
    "\n",
    "coef, p = spearmanr(mpg, hp)\n",
    "print(coef)"
   ]
  },
  {
   "cell_type": "code",
   "execution_count": 39,
   "id": "fb660934",
   "metadata": {},
   "outputs": [
    {
     "data": {
      "image/png": "[encoded data removed]",
      "text/plain": [
       "<Figure size 432x288 with 1 Axes>"
      ]
     },
     "metadata": {
      "needs_background": "light"
     },
     "output_type": "display_data"
    }
   ],
   "source": [
    "# Graph of Correlation\n",
    "\n",
    "plt.scatter(hp, mpg, c='b',marker='o')\n",
    "plt.xlabel('hp', fontsize = 16)\n",
    "plt.ylabel('mpg', fontsize = 16)\n",
    "plt.title('Graph of Correlation', fontsize=20)\n",
    "plt.show()"
   ]
  },
  {
   "cell_type": "code",
   "execution_count": 40,
   "id": "bb97a957",
   "metadata": {},
   "outputs": [
    {
     "name": "stdout",
     "output_type": "stream",
     "text": [
      "-0.9349436139335843\n"
     ]
    }
   ],
   "source": [
    "# Nonparametric Bootstrapping\n",
    "\n",
    "np.random.seed(11504)\n",
    "m = len(hp)\n",
    "cars_index = list(np.arange(start=1, stop=m))\n",
    "msims = 1000\n",
    "cars_cor = list(np.arange(msims))\n",
    "for j in range(msims):\n",
    "    cars_nboot = np.random.choice(cars_index, m, replace=True)\n",
    "    hp_boot = hp[cars_nboot]\n",
    "    mpg_boot = mpg[cars_nboot]\n",
    "    cars_cor[j] = scipy.stats.spearmanr(hp_boot, mpg_boot)[0]\n",
    "    \n",
    "print(cars_cor[j])"
   ]
  },
  {
   "cell_type": "code",
   "execution_count": 41,
   "id": "244c1763",
   "metadata": {},
   "outputs": [
    {
     "name": "stdout",
     "output_type": "stream",
     "text": [
      "0.04436204635642321\n"
     ]
    }
   ],
   "source": [
    "# Standard Error\n",
    "\n",
    "cars_error = statistics.stdev(cars_cor)\n",
    "print(cars_error)"
   ]
  },
  {
   "cell_type": "code",
   "execution_count": 42,
   "id": "06332646",
   "metadata": {},
   "outputs": [
    {
     "data": {
      "text/plain": [
       "array([-0.94913532, -0.77815391])"
      ]
     },
     "execution_count": 42,
     "metadata": {},
     "output_type": "execute_result"
    }
   ],
   "source": [
    "# 95% Confidence Interval\n",
    "\n",
    "ci_cars_nonpar = np.percentile(cars_cor, [2.5, 97.5])\n",
    "ci_cars_nonpar"
   ]
  },
  {
   "cell_type": "code",
   "execution_count": 43,
   "id": "d1420c29",
   "metadata": {},
   "outputs": [
    {
     "data": {
      "text/plain": [
       "<matplotlib.lines.Line2D at 0x1f088ddfa30>"
      ]
     },
     "execution_count": 43,
     "metadata": {},
     "output_type": "execute_result"
    },
    {
     "data": {
      "image/png": "[encoded data removed]",
      "text/plain": [
       "<Figure size 432x288 with 1 Axes>"
      ]
     },
     "metadata": {
      "needs_background": "light"
     },
     "output_type": "display_data"
    }
   ],
   "source": [
    "# Distribution\n",
    "\n",
    "plt.hist(cars_cor, alpha = 0.5) \n",
    "plt.axvline(np.percentile(cars_cor, 2.5), color = 'red', linewidth=2) \n",
    "plt.axvline(np.percentile(cars_cor, 97.5), color = 'red', linewidth=2)"
   ]
  },
  {
   "cell_type": "code",
   "execution_count": null,
   "id": "743eb8a3",
   "metadata": {},
   "outputs": [],
   "source": []
  }
 ],
 "metadata": {
  "kernelspec": {
   "display_name": "Python 3",
   "language": "python",
   "name": "python3"
  },
  "language_info": {
   "codemirror_mode": {
    "name": "ipython",
    "version": 3
   },
   "file_extension": ".py",
   "mimetype": "text/x-python",
   "name": "python",
   "nbconvert_exporter": "python",
   "pygments_lexer": "ipython3",
   "version": "3.8.8"
  }
 },
 "nbformat": 4,
 "nbformat_minor": 5
}
